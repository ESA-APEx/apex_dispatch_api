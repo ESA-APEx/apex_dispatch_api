{
 "cells": [
  {
   "cell_type": "markdown",
   "id": "c56e06c4-70ab-4d1b-a4ee-3e9baa95d6aa",
   "metadata": {},
   "source": [
    "# Service Execution\n",
    "This notebooks showcases a demo of the [APEx Dispatch API](https://github.com/ESA-APEx/apex_dispatch_api) for executing a service. In this notebook we will perform the execution for one of the services in the [APEx Algoritm Services Catalogue](https://algorithm-catalogue.apex.esa.int/), specfically the [Wind Turbine Detection](https://algorithm-catalogue.apex.esa.int/apps/wind_turbine_detection#execution-information)."
   ]
  },
  {
   "cell_type": "code",
   "execution_count": 26,
   "id": "d99f5fbc",
   "metadata": {},
   "outputs": [],
   "source": [
    "import requests\n",
    "import rasterio\n",
    "import numpy as np\n",
    "import tempfile\n",
    "import asyncio\n",
    "import json\n",
    "import websockets\n",
    "import httpx\n",
    "import io\n",
    "import base64\n",
    "import time\n",
    "from ipyleaflet import ImageOverlay\n",
    "from PIL import Image\n",
    "from ipyleaflet import Map, GeoJSON, TileLayer\n",
    "from rasterio.warp import transform_bounds\n",
    "from shapely.geometry import shape\n",
    "from pyproj import Transformer\n",
    "from authlib.integrations.requests_client import OAuth2Session\n",
    "from urllib.parse import urlparse, parse_qs"
   ]
  },
  {
   "cell_type": "code",
   "execution_count": 27,
   "id": "e8c7ffff-4d0a-4e0c-bc98-44f90316f20c",
   "metadata": {},
   "outputs": [],
   "source": [
    "def bbox_to_geojson(bbox: dict) -> dict:\n",
    "    west, south, east, north = bbox[\"west\"], bbox[\"south\"], bbox[\"east\"], bbox[\"north\"]\n",
    "    return {\n",
    "        \"type\": \"Polygon\",\n",
    "        \"coordinates\": [\n",
    "            [\n",
    "                [west, south],\n",
    "                [east, south],\n",
    "                [east, north],\n",
    "                [west, north],\n",
    "                [west, south]\n",
    "            ]\n",
    "        ]\n",
    "    }"
   ]
  },
  {
   "cell_type": "code",
   "execution_count": 28,
   "id": "4139eacf-03a4-4815-83d2-b2ee04e90331",
   "metadata": {},
   "outputs": [],
   "source": [
    "def geojson_to_bbox(polygon):\n",
    "    coords = polygon[\"coordinates\"][0]\n",
    "    lons = [pt[0] for pt in coords]\n",
    "    lats = [pt[1] for pt in coords]\n",
    "    west, south, east, north = min(lons), min(lats), max(lons), max(lats)\n",
    "    \n",
    "    # Convert back to original bounding box dict\n",
    "    return {\n",
    "        \"west\": west,\n",
    "        \"south\": south,\n",
    "        \"east\": east,\n",
    "        \"north\": north\n",
    "    }\n"
   ]
  },
  {
   "cell_type": "markdown",
   "id": "a2179224-deec-4005-90ad-78122871b35a",
   "metadata": {},
   "source": [
    "## Definition of parameters"
   ]
  },
  {
   "cell_type": "code",
   "execution_count": 29,
   "id": "f95065a9",
   "metadata": {},
   "outputs": [],
   "source": [
    "dispatch_api = \"localhost:8000\""
   ]
  },
  {
   "cell_type": "code",
   "execution_count": 30,
   "id": "251a343f",
   "metadata": {},
   "outputs": [],
   "source": [
    "application = \"https://raw.githubusercontent.com/ESA-APEx/apex_algorithms/refs/heads/main/algorithm_catalog/eurac/eurac_pv_farm_detection/openeo_udp/eurac_pv_farm_detection.json\"\n",
    "endpoint = \"https://openeofed.dataspace.copernicus.eu\""
   ]
  },
  {
   "cell_type": "code",
   "execution_count": 31,
   "id": "c83aa9d5",
   "metadata": {},
   "outputs": [],
   "source": [
    "spatial_extent =  {\n",
    "  \"type\": \"Polygon\",\n",
    "  \"coordinates\": [\n",
    "    [\n",
    "      [16.342, 47.962],\n",
    "      [16.414, 47.962],\n",
    "      [16.414, 48.008],\n",
    "      [16.342, 48.008],\n",
    "      [16.342, 47.962]\n",
    "    ]\n",
    "  ]\n",
    "}\n",
    "temporal_extent = [\"2023-05-01\", \"2023-09-30\"]\n",
    "output_format = \"gtiff\""
   ]
  },
  {
   "cell_type": "code",
   "execution_count": 32,
   "id": "53d0800c-a6b3-4a64-a7a2-f27689adc7d7",
   "metadata": {},
   "outputs": [],
   "source": [
    "# Map related settings\n",
    "center = shape(spatial_extent).centroid\n",
    "zoom = 12"
   ]
  },
  {
   "cell_type": "code",
   "execution_count": 33,
   "id": "6de8d686",
   "metadata": {},
   "outputs": [
    {
     "data": {
      "application/vnd.jupyter.widget-view+json": {
       "model_id": "fe81d39a308d4b7582afb6fb758557fe",
       "version_major": 2,
       "version_minor": 0
      },
      "text/plain": [
       "Map(center=[47.985, 16.378000000000004], controls=(ZoomControl(options=['position', 'zoom_in_text', 'zoom_in_t…"
      ]
     },
     "execution_count": 33,
     "metadata": {},
     "output_type": "execute_result"
    }
   ],
   "source": [
    "# Create a map centered at the approximate center of the area of interest\n",
    "m = Map(center=[center.y, center.x], zoom=zoom)\n",
    " \n",
    "# Add the tiles (GeometryCollection) to the map\n",
    "geo_json = GeoJSON(data=spatial_extent)\n",
    "m.add_layer(geo_json)\n",
    "\n",
    "# Display the map\n",
    "m"
   ]
  },
  {
   "cell_type": "markdown",
   "id": "67aa06f1-b821-41e6-abe1-b40fbc6ca2ac",
   "metadata": {},
   "source": [
    "## Authentication with the API\n",
    "To access the different endpoints of the Dispatcher API it is important to first authenticate yourself with the APEx environment."
   ]
  },
  {
   "cell_type": "code",
   "execution_count": 34,
   "id": "47c7fe82-b611-404c-9cb8-204497dbec57",
   "metadata": {},
   "outputs": [],
   "source": [
    "KEYCLOAK_HOST = \"auth.dev.apex.esa.int\"\n",
    "CLIENT_ID = \"apex-dispatcher-api-dev\""
   ]
  },
  {
   "cell_type": "code",
   "execution_count": 35,
   "id": "b5ee27f5-9e69-4557-ba83-ec7cb74aa874",
   "metadata": {},
   "outputs": [],
   "source": [
    "# Endpoints\n",
    "authorization_endpoint = f\"https://{KEYCLOAK_HOST}/realms/apex/protocol/openid-connect/auth\"\n",
    "token_endpoint = f\"https://{KEYCLOAK_HOST}/realms/apex/protocol/openid-connect/token\"\n",
    "\n",
    "# Global token store\n",
    "_token_data = None\n",
    "\n",
    "def get_access_token():\n",
    "    \"\"\"\n",
    "    Returns a valid access token. Refreshes it automatically if expired.\n",
    "    \"\"\"\n",
    "    global _token_data\n",
    "\n",
    "    # If we have a token and it hasn't expired yet, return it\n",
    "    if _token_data and _token_data.get(\"expires_at\", 0) > time.time() + 10:\n",
    "        return _token_data[\"access_token\"]\n",
    "\n",
    "    # If token exists but is expired and has a refresh_token, refresh it\n",
    "    if _token_data and \"refresh_token\" in _token_data:\n",
    "        session = OAuth2Session(CLIENT_ID, token=_token_data)\n",
    "        _token_data = session.refresh_token(token_endpoint)\n",
    "        return _token_data[\"access_token\"]\n",
    "\n",
    "    # Otherwise, start a new OAuth2 flow\n",
    "    session = OAuth2Session(\n",
    "        client_id=CLIENT_ID,\n",
    "        redirect_uri=\"http://localhost:8000/callback\"\n",
    "    )\n",
    "    uri, state = session.create_authorization_url(authorization_endpoint)\n",
    "    print(\"Open this URL in your browser:\", uri)\n",
    "    redirect_url = input(\"Paste the redirect URL here: \")\n",
    "    parsed = urlparse(redirect_url)\n",
    "    code = parse_qs(parsed.query).get(\"code\")[0]\n",
    "\n",
    "    _token_data = session.fetch_token(\n",
    "        token_endpoint,\n",
    "        code=code,\n",
    "        client_secret=None,  # only if your client is confidential\n",
    "        include_client_id=True\n",
    "    )\n",
    "\n",
    "    return _token_data[\"access_token\"]"
   ]
  },
  {
   "cell_type": "markdown",
   "id": "5b79dc3d-7734-4e30-86d8-b1868f5f170a",
   "metadata": {},
   "source": [
    "## Launching the service execution task\n",
    "\n",
    "Next we trigger the service execution task on the dispatcher. We provide the details of the processing job that needs to be executed. The result is the information on the created service execution task."
   ]
  },
  {
   "cell_type": "code",
   "execution_count": 48,
   "id": "c5ca3fdd-7559-4fc7-8318-61b5dc59475f",
   "metadata": {},
   "outputs": [
    {
     "name": "stdout",
     "output_type": "stream",
     "text": [
      "{'id': 134, 'title': 'PV Farm Detection', 'label': 'openeo', 'status': 'created', 'service': {'endpoint': 'https://openeofed.dataspace.copernicus.eu', 'application': 'https://raw.githubusercontent.com/ESA-APEx/apex_algorithms/refs/heads/main/algorithm_catalog/eurac/eurac_pv_farm_detection/openeo_udp/eurac_pv_farm_detection.json'}, 'parameters': {'spatial_extent': {'west': 16.342, 'south': 47.962, 'east': 16.414, 'north': 48.008}, 'temporal_extent': ['2023-05-01', '2023-09-30']}}\n"
     ]
    }
   ],
   "source": [
    "execution_task = requests.post(\n",
    "    f\"http://{dispatch_api}/unit_jobs\", \n",
    "    headers={\n",
    "        \"Authorization\": f\"Bearer {get_access_token()}\"        \n",
    "    },\n",
    "    json={\n",
    "        \"title\": \"PV Farm Detection\",\n",
    "        \"label\": \"openeo\",\n",
    "        \"service\": {\"\"\n",
    "\n",
    "            \"endpoint\": endpoint,\n",
    "            \"application\": application\n",
    "        },\n",
    "        \"format\": output_format,\n",
    "        \"parameters\": {\n",
    "            \"spatial_extent\": geojson_to_bbox(spatial_extent),\n",
    "            \"temporal_extent\": temporal_extent\n",
    "        }\n",
    "    }\n",
    ")\n",
    "print(execution_task.json())\n",
    "execution_task_id = execution_task.json()['id']"
   ]
  },
  {
   "cell_type": "markdown",
   "id": "38adee61-7fb3-49c7-88cc-063009819a37",
   "metadata": {},
   "source": [
    "## Retrieve status of the service execution task\n",
    "We can now write a continuous monitoring process that fetches the status of the service execution task and showcase the results on the map."
   ]
  },
  {
   "cell_type": "code",
   "execution_count": 49,
   "id": "02e5c413-d110-4110-be59-c86e5226edc5",
   "metadata": {},
   "outputs": [],
   "source": [
    "def add_cog_layer(cog_url, name=None, m=m):\n",
    "    with rasterio.open(cog_url) as src:\n",
    "        band = src.read(1).astype(np.float32)\n",
    "\n",
    "        bounds = transform_bounds(src.crs, \"EPSG:4326\", *src.bounds)\n",
    "\n",
    "        # Normalize 0–255\n",
    "        band = 255 * (band - band.min()) / (band.max() - band.min())\n",
    "        band = band.astype(np.uint8)\n",
    "\n",
    "    # Convert to PNG data URI\n",
    "    buf = io.BytesIO()\n",
    "    Image.fromarray(band).save(buf, format=\"PNG\")\n",
    "    data_url = \"data:image/png;base64,\" + base64.b64encode(buf.getvalue()).decode(\"utf-8\")\n",
    "\n",
    "    bbox = ((bounds[1], bounds[0]), (bounds[3], bounds[2]))\n",
    "    overlay = ImageOverlay(url=data_url, bounds=bbox, name=name or \"Gray COG\")\n",
    "    m.add_layer(overlay)\n",
    "    return overlay\n",
    "\n",
    "def add_geojson_layer(url,name=None, m=m):\n",
    "    data = requests.get(url).json()\n",
    "    transformer = Transformer.from_crs(data[\"crs\"][\"properties\"][\"name\"], \"EPSG:4326\", always_xy=True)\n",
    "\n",
    "    for feature in data[\"features\"]:\n",
    "        geom = feature[\"geometry\"]\n",
    "        if geom[\"type\"] == \"Polygon\":\n",
    "            new_coords = []\n",
    "            for ring in geom[\"coordinates\"]:\n",
    "                new_ring = [transformer.transform(x, y) for x, y in ring]\n",
    "                new_coords.append(new_ring)\n",
    "            geom[\"coordinates\"] = new_coords\n",
    "    geo_json = GeoJSON(data=data)\n",
    "    m.add_layer(geo_json)"
   ]
  },
  {
   "cell_type": "code",
   "execution_count": 50,
   "id": "ac428293-7cd4-49a8-9bfa-4e0dc8f4d2cc",
   "metadata": {},
   "outputs": [
    {
     "data": {
      "application/vnd.jupyter.widget-view+json": {
       "model_id": "0341e40c72df455f8bf0a98becc8a928",
       "version_major": 2,
       "version_minor": 0
      },
      "text/plain": [
       "Map(center=[47.985, 16.378000000000004], controls=(ZoomControl(options=['position', 'zoom_in_text', 'zoom_in_t…"
      ]
     },
     "metadata": {},
     "output_type": "display_data"
    }
   ],
   "source": [
    "# Function to style jobs\n",
    "def job_style(feature):\n",
    "    status = feature[\"properties\"][\"status\"]\n",
    "    color = {\n",
    "        \"created\": \"blue\",\n",
    "        \"queued\": \"orange\",\n",
    "        \"running\": \"yellow\",\n",
    "        \"finished\": \"green\",\n",
    "        \"canceled\": \"gray\",\n",
    "        \"failed\": \"red\"\n",
    "    }.get(feature[\"properties\"][\"status\"], \"black\")\n",
    "    return {\n",
    "        \"color\": color,\n",
    "        \"fillColor\": color,\n",
    "        \"fillOpacity\": 0.5 if status != \"finished\" else 0.0\n",
    "    }\n",
    "\n",
    "\n",
    "m = Map(center=[center.y, center.x], zoom=zoom)\n",
    "geo_json = GeoJSON(\n",
    "    data={\n",
    "        \"type\": \"FeatureCollection\",\n",
    "        \"features\": []\n",
    "    }\n",
    ")\n",
    "geo_json.style_callback = job_style\n",
    "m.add_layer(geo_json)\n",
    "m.layout.height = '1000px'\n",
    "display(m)\n",
    "\n",
    "async def show_results(job_id):\n",
    "    async with httpx.AsyncClient() as client:\n",
    "        result = await client.get(f\"http://{dispatch_api}/unit_jobs/{job_id}/results\", headers={\n",
    "            \"Authorization\": f\"Bearer {get_access_token()}\"\n",
    "        })\n",
    "        response = result.json()\n",
    "        if output_format.lower() == \"geojson\":\n",
    "            result = response[\"assets\"][\"vectorcube.geojson\"][\"href\"]\n",
    "            add_geojson_layer(result, name=f\"Job {job_id}\", m=m)\n",
    "        else:\n",
    "            cog = response[\"assets\"][\"openEO.tif\"][\"href\"]\n",
    "            add_cog_layer(cog, name=f\"Job {job_id}\", m=m)\n",
    "        return response\n",
    "\n",
    "async def listen_for_updates():\n",
    "    finished = False\n",
    "    while not finished:\n",
    "        response  =requests.get(\n",
    "            f\"http://{dispatch_api}/unit_jobs/{execution_task_id}\", \n",
    "            headers={\n",
    "                \"Authorization\": f\"Bearer {get_access_token()}\"        \n",
    "            })\n",
    "        job = response.json()        \n",
    "        geo_json.data = {\n",
    "            \"type\": \"FeatureCollection\",\n",
    "            \"features\": [{\n",
    "                \"type\": \"Feature\",\n",
    "                \"geometry\": bbox_to_geojson(job[\"parameters\"][\"spatial_extent\"]),\n",
    "                \"properties\": {\n",
    "                    \"status\": job[\"status\"],\n",
    "                }\n",
    "            }]\n",
    "        }\n",
    "        \n",
    "        if job[\"status\"] == \"finished\":\n",
    "            await show_results(job[\"id\"])\n",
    "\n",
    "        finished = job['status'] in [\"finished\", \"canceled\", \"failed\"]\n",
    "        time.sleep(3)\n",
    "        \n",
    "\n",
    "# Run the websocket listener in the notebook\n",
    "await listen_for_updates()"
   ]
  }
 ],
 "metadata": {
  "kernelspec": {
   "display_name": "Python 3 (ipykernel)",
   "language": "python",
   "name": "python3"
  },
  "language_info": {
   "codemirror_mode": {
    "name": "ipython",
    "version": 3
   },
   "file_extension": ".py",
   "mimetype": "text/x-python",
   "name": "python",
   "nbconvert_exporter": "python",
   "pygments_lexer": "ipython3",
   "version": "3.10.12"
  }
 },
 "nbformat": 4,
 "nbformat_minor": 5
}

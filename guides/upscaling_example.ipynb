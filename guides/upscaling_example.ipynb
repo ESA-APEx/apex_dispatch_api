{
 "cells": [
  {
   "cell_type": "markdown",
   "id": "c56e06c4-70ab-4d1b-a4ee-3e9baa95d6aa",
   "metadata": {},
   "source": [
    "# Upscaling Service - Proof of Concept\n",
    "This notebooks showcases a demo of the APEx Upscaling Service by demonstrating the capabilities of the [APEx Dispatcher API](https://github.com/ESA-APEx/apex_dispatch_api). In this notebook we will perform a small upscaling exercise for one of the services in the [APEx Algoritm Services Catalogue](https://algorithm-catalogue.apex.esa.int/), specfically the [Forest Fire Mapping](https://algorithm-catalogue.apex.esa.int/apps/parcel_delineation#execution-information). We will split up an area of interest in a 20x20km grid and execute this  through this upscaling task through the APEx Dispatch API."
   ]
  },
  {
   "cell_type": "code",
   "execution_count": 2,
   "id": "d99f5fbc",
   "metadata": {},
   "outputs": [],
   "source": [
    "import requests\n",
    "import asyncio\n",
    "import json\n",
    "import websockets\n",
    "from ipyleaflet import Map, GeoJSON"
   ]
  },
  {
   "cell_type": "markdown",
   "id": "136f2989-3414-44c7-abbb-a04d63620ef1",
   "metadata": {},
   "source": [
    "## Definition of parameters"
   ]
  },
  {
   "cell_type": "code",
   "execution_count": 3,
   "id": "f95065a9",
   "metadata": {},
   "outputs": [],
   "source": [
    "dispatch_api = \"localhost:8000\""
   ]
  },
  {
   "cell_type": "code",
   "execution_count": 4,
   "id": "251a343f",
   "metadata": {},
   "outputs": [],
   "source": [
    "application = \"https://raw.githubusercontent.com/ESA-APEx/apex_algorithms/refs/heads/main/algorithm_catalog/vito/random_forest_firemapping/openeo_udp/random_forest_firemapping.json\"\n",
    "endpoint = \"https://openeofed.dataspace.copernicus.eu\""
   ]
  },
  {
   "cell_type": "code",
   "execution_count": 5,
   "id": "c83aa9d5",
   "metadata": {},
   "outputs": [],
   "source": [
    "area_of_interest =   {\n",
    "        \"coordinates\": [\n",
    "          [\n",
    "            [\n",
    "              -5.63017002925514,\n",
    "              42.61315111519849\n",
    "            ],\n",
    "            [\n",
    "              -7.147271480204438,\n",
    "              42.61315111519849\n",
    "            ],\n",
    "            [\n",
    "              -7.147271480204438,\n",
    "              41.842023634350426\n",
    "            ],\n",
    "            [\n",
    "              -5.63017002925514,\n",
    "              41.842023634350426\n",
    "            ],\n",
    "            [\n",
    "              -5.63017002925514,\n",
    "              42.61315111519849\n",
    "            ]\n",
    "          ]\n",
    "        ],\n",
    "        \"type\": \"Polygon\"\n",
    "      }\n",
    "time_of_interest = [\"2025-08-15\", \"2025-08-22\"]"
   ]
  },
  {
   "cell_type": "markdown",
   "id": "33c539b8-51e3-43a5-b88e-bc2ac0f89c43",
   "metadata": {},
   "source": [
    "## Retrieval of the tiles\n",
    "The first step in our upscaling exercise is to determine the different tiles to be processed based on the given `area_of_interest`. In this example we ask the dispatcher to split up the area in a `20x20km` grid. This results in a list of tiles that are visualised on the map."
   ]
  },
  {
   "cell_type": "code",
   "execution_count": 6,
   "id": "e0618338",
   "metadata": {},
   "outputs": [],
   "source": [
    "tiles = requests.post(f\"http://{dispatch_api}/tiles\", json={\n",
    "    \"grid\": \"20x20km\",\n",
    "    \"aoi\": area_of_interest\n",
    "}).json()"
   ]
  },
  {
   "cell_type": "code",
   "execution_count": 7,
   "id": "6de8d686",
   "metadata": {},
   "outputs": [
    {
     "data": {
      "application/vnd.jupyter.widget-view+json": {
       "model_id": "eafd8bf582b0472ba6f0b719594d1041",
       "version_major": 2,
       "version_minor": 0
      },
      "text/plain": [
       "Map(center=[42.251628548555004, -6.37490034623255], controls=(ZoomControl(options=['position', 'zoom_in_text',…"
      ]
     },
     "execution_count": 7,
     "metadata": {},
     "output_type": "execute_result"
    }
   ],
   "source": [
    "# Create a map centered at the approximate center of the area of interest\n",
    "m = Map(center=[42.251628548555004, -6.37490034623255], zoom=8)\n",
    " \n",
    "# Add the tiles (GeometryCollection) to the map\n",
    "geo_json = GeoJSON(data=tiles)\n",
    "m.add_layer(geo_json)\n",
    "\n",
    "# Display the map\n",
    "m"
   ]
  },
  {
   "cell_type": "markdown",
   "id": "5b79dc3d-7734-4e30-86d8-b1868f5f170a",
   "metadata": {},
   "source": [
    "## Launching the upscaling task\n",
    "\n",
    "Next we trigger the upscaling task on the dispatcher. We provide the details of the processing jobs that need to be executed together with a `dimension`. This is an important parameter as this lets the dispatcher know how to scale up. In this case we are asking the dispatcher to scale up using the `spatial_extent`, creating a separate job for each geometry in the `values` section. The dispatcher will take care of all the rest. The result in the information on the created upscaling task."
   ]
  },
  {
   "cell_type": "code",
   "execution_count": 20,
   "id": "c5ca3fdd-7559-4fc7-8318-61b5dc59475f",
   "metadata": {},
   "outputs": [
    {
     "data": {
      "text/plain": [
       "{'id': 4,\n",
       " 'title': 'Forest Fire Detection',\n",
       " 'label': 'openeo',\n",
       " 'status': 'created'}"
      ]
     },
     "execution_count": 20,
     "metadata": {},
     "output_type": "execute_result"
    }
   ],
   "source": [
    "upscaling_task = requests.post(f\"http://{dispatch_api}/upscale_tasks\", json={\n",
    "    \"title\": \"Forest Fire Detection\",\n",
    "    \"label\": \"openeo\",\n",
    "    \"service\": {\n",
    "        \"endpoint\": endpoint,\n",
    "        \"application\": application\n",
    "    },\n",
    "    \"parameters\": {\n",
    "        \"temporal_extent\": time_of_interest\n",
    "    },\n",
    "    \"dimension\": {\n",
    "        \"name\": \"spatial_extent\",\n",
    "        \"values\": tiles[\"geometries\"]\n",
    "    }\n",
    "}).json()\n",
    "upscaling_task"
   ]
  },
  {
   "cell_type": "markdown",
   "id": "38adee61-7fb3-49c7-88cc-063009819a37",
   "metadata": {},
   "source": [
    "## Retrieve status of the upscaling task\n",
    "We can now write a continuous monitoring process that fetches the status of the upscaling task and showcase the results on the map."
   ]
  },
  {
   "cell_type": "code",
   "execution_count": 9,
   "id": "ce1e3da9-d0ae-4c57-b42e-143f5dc109fd",
   "metadata": {},
   "outputs": [],
   "source": [
    "upscaling_task = {\n",
    "    \"id\": 4\n",
    "}"
   ]
  },
  {
   "cell_type": "code",
   "execution_count": 38,
   "id": "ac428293-7cd4-49a8-9bfa-4e0dc8f4d2cc",
   "metadata": {},
   "outputs": [
    {
     "data": {
      "application/vnd.jupyter.widget-view+json": {
       "model_id": "42f8c0e923364838ab783c8c7fe48dcb",
       "version_major": 2,
       "version_minor": 0
      },
      "text/plain": [
       "Map(center=[42.251628548555004, -6.37490034623255], controls=(ZoomControl(options=['position', 'zoom_in_text',…"
      ]
     },
     "metadata": {},
     "output_type": "display_data"
    },
    {
     "ename": "ConnectionClosedError",
     "evalue": "received 1012 (service restart); then sent 1012 (service restart)",
     "output_type": "error",
     "traceback": [
      "\u001b[0;31m---------------------------------------------------------------------------\u001b[0m",
      "\u001b[0;31mConnectionResetError\u001b[0m                      Traceback (most recent call last)",
      "File \u001b[0;32m~/.pyenv/versions/3.10.12/lib/python3.10/asyncio/selector_events.py:862\u001b[0m, in \u001b[0;36m_SelectorSocketTransport._read_ready__data_received\u001b[0;34m(self)\u001b[0m\n\u001b[1;32m    861\u001b[0m \u001b[38;5;28;01mtry\u001b[39;00m:\n\u001b[0;32m--> 862\u001b[0m     data \u001b[38;5;241m=\u001b[39m \u001b[38;5;28;43mself\u001b[39;49m\u001b[38;5;241;43m.\u001b[39;49m\u001b[43m_sock\u001b[49m\u001b[38;5;241;43m.\u001b[39;49m\u001b[43mrecv\u001b[49m\u001b[43m(\u001b[49m\u001b[38;5;28;43mself\u001b[39;49m\u001b[38;5;241;43m.\u001b[39;49m\u001b[43mmax_size\u001b[49m\u001b[43m)\u001b[49m\n\u001b[1;32m    863\u001b[0m \u001b[38;5;28;01mexcept\u001b[39;00m (\u001b[38;5;167;01mBlockingIOError\u001b[39;00m, \u001b[38;5;167;01mInterruptedError\u001b[39;00m):\n",
      "\u001b[0;31mConnectionResetError\u001b[0m: [Errno 54] Connection reset by peer",
      "\nThe above exception was the direct cause of the following exception:\n",
      "\u001b[0;31mConnectionClosedError\u001b[0m                     Traceback (most recent call last)",
      "Cell \u001b[0;32mIn[38], line 52\u001b[0m\n\u001b[1;32m     49\u001b[0m                 \u001b[38;5;28;01mbreak\u001b[39;00m\n\u001b[1;32m     51\u001b[0m \u001b[38;5;66;03m# Run the websocket listener in the notebook\u001b[39;00m\n\u001b[0;32m---> 52\u001b[0m \u001b[38;5;28;01mawait\u001b[39;00m listen_for_updates()\n",
      "Cell \u001b[0;32mIn[38], line 31\u001b[0m, in \u001b[0;36mlisten_for_updates\u001b[0;34m()\u001b[0m\n\u001b[1;32m     29\u001b[0m \u001b[38;5;28;01masync\u001b[39;00m \u001b[38;5;28;01mwith\u001b[39;00m websockets\u001b[38;5;241m.\u001b[39mconnect(ws_url) \u001b[38;5;28;01mas\u001b[39;00m websocket:\n\u001b[1;32m     30\u001b[0m     \u001b[38;5;28;01mwhile\u001b[39;00m \u001b[38;5;28;01mTrue\u001b[39;00m:\n\u001b[0;32m---> 31\u001b[0m         message \u001b[38;5;241m=\u001b[39m \u001b[38;5;28;01mawait\u001b[39;00m websocket\u001b[38;5;241m.\u001b[39mrecv()\n\u001b[1;32m     32\u001b[0m         status \u001b[38;5;241m=\u001b[39m json\u001b[38;5;241m.\u001b[39mloads(message)\n\u001b[1;32m     33\u001b[0m         \u001b[38;5;28;01mif\u001b[39;00m status\u001b[38;5;241m.\u001b[39mget(\u001b[38;5;124m\"\u001b[39m\u001b[38;5;124mdata\u001b[39m\u001b[38;5;124m\"\u001b[39m):\n",
      "File \u001b[0;32m~/.pyenv/versions/3.10.12/lib/python3.10/site-packages/websockets/asyncio/connection.py:322\u001b[0m, in \u001b[0;36mConnection.recv\u001b[0;34m(self, decode)\u001b[0m\n\u001b[1;32m    318\u001b[0m     \u001b[38;5;66;03m# fallthrough\u001b[39;00m\n\u001b[1;32m    319\u001b[0m \n\u001b[1;32m    320\u001b[0m \u001b[38;5;66;03m# Wait for the protocol state to be CLOSED before accessing close_exc.\u001b[39;00m\n\u001b[1;32m    321\u001b[0m \u001b[38;5;28;01mawait\u001b[39;00m asyncio\u001b[38;5;241m.\u001b[39mshield(\u001b[38;5;28mself\u001b[39m\u001b[38;5;241m.\u001b[39mconnection_lost_waiter)\n\u001b[0;32m--> 322\u001b[0m \u001b[38;5;28;01mraise\u001b[39;00m \u001b[38;5;28mself\u001b[39m\u001b[38;5;241m.\u001b[39mprotocol\u001b[38;5;241m.\u001b[39mclose_exc \u001b[38;5;28;01mfrom\u001b[39;00m\u001b[38;5;250m \u001b[39m\u001b[38;5;21;01mself\u001b[39;00m\u001b[38;5;21;01m.\u001b[39;00m\u001b[38;5;21;01mrecv_exc\u001b[39;00m\n",
      "\u001b[0;31mConnectionClosedError\u001b[0m: received 1012 (service restart); then sent 1012 (service restart)"
     ]
    }
   ],
   "source": [
    "m = Map(center=[42.251628548555004, -6.37490034623255], zoom=8)\n",
    "geo_json = GeoJSON(\n",
    "    data={\n",
    "        \"type\": \"FeatureCollection\",\n",
    "        \"features\": []\n",
    "    }\n",
    ")\n",
    "m.add_layer(geo_json)\n",
    "display(m)\n",
    "\n",
    "# Function to style jobs\n",
    "def job_style(feature):\n",
    "    color = {\n",
    "        \"created\": \"blue\",\n",
    "        \"queued\": \"orange\",\n",
    "        \"running\": \"yellow\",\n",
    "        \"finished\": \"green\",\n",
    "        \"canceled\": \"gray\",\n",
    "        \"failed\": \"red\"\n",
    "    }.get(feature[\"properties\"][\"status\"], \"black\")\n",
    "    return {\n",
    "        \"color\": color,\n",
    "        \"fillColor\": color,\n",
    "        \"fillOpacity\": 0.5\n",
    "    }\n",
    "\n",
    "async def listen_for_updates():\n",
    "    ws_url = f\"ws://{dispatch_api}/ws/upscale_tasks/{upscaling_task['id']}?interval=15\"\n",
    "    async with websockets.connect(ws_url) as websocket:\n",
    "        while True:\n",
    "            message = await websocket.recv()\n",
    "            status = json.loads(message)\n",
    "            if status.get(\"data\"):\n",
    "                features = []\n",
    "                for job in status[\"data\"][\"jobs\"]:\n",
    "                    features.append({\n",
    "                        \"type\": \"Feature\",\n",
    "                        \"geometry\": job[\"parameters\"][\"spatial_extent\"],\n",
    "                        \"properties\": {\n",
    "                            \"status\": job[\"status\"],\n",
    "                        }\n",
    "                    })\n",
    "                geo_json.data = {\n",
    "                    \"type\": \"FeatureCollection\",\n",
    "                    \"features\": features\n",
    "                }\n",
    "                geo_json.style_callback = job_style\n",
    "            if status.get(\"status\") in [\"finished\", \"canceled\", \"failed\"]:\n",
    "                break\n",
    "\n",
    "# Run the websocket listener in the notebook\n",
    "await listen_for_updates()"
   ]
  },
  {
   "cell_type": "code",
   "execution_count": null,
   "id": "56bbbdce-45bc-4c05-a6f6-66ab6dac4808",
   "metadata": {},
   "outputs": [],
   "source": []
  }
 ],
 "metadata": {
  "kernelspec": {
   "display_name": "Python 3 (ipykernel)",
   "language": "python",
   "name": "python3"
  },
  "language_info": {
   "codemirror_mode": {
    "name": "ipython",
    "version": 3
   },
   "file_extension": ".py",
   "mimetype": "text/x-python",
   "name": "python",
   "nbconvert_exporter": "python",
   "pygments_lexer": "ipython3",
   "version": "3.10.12"
  }
 },
 "nbformat": 4,
 "nbformat_minor": 5
}

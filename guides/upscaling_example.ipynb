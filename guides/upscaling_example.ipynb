{
 "cells": [
  {
   "cell_type": "markdown",
   "id": "c56e06c4-70ab-4d1b-a4ee-3e9baa95d6aa",
   "metadata": {},
   "source": [
    "# Upscaling Service - Proof of Concept\n",
    "This notebooks showcases a demo of the APEx Upscaling Service by demonstrating the capabilities of the [APEx Dispatcher API](https://github.com/ESA-APEx/apex_dispatch_api). In this notebook we will perform a small upscaling exercise for one of the services in the [APEx Algoritm Services Catalogue](https://algorithm-catalogue.apex.esa.int/), specfically the [Forest Fire Mapping](https://algorithm-catalogue.apex.esa.int/apps/parcel_delineation#execution-information). We will split up an area of interest in a 20x20km grid and execute this  through this upscaling task through the APEx Dispatch API."
   ]
  },
  {
   "cell_type": "code",
   "execution_count": 1,
   "id": "d99f5fbc",
   "metadata": {},
   "outputs": [],
   "source": [
    "import requests"
   ]
  },
  {
   "cell_type": "markdown",
   "id": "136f2989-3414-44c7-abbb-a04d63620ef1",
   "metadata": {},
   "source": [
    "## Definition of parameters"
   ]
  },
  {
   "cell_type": "code",
   "execution_count": 2,
   "id": "f95065a9",
   "metadata": {},
   "outputs": [],
   "source": [
    "dispatch_api = \"http://localhost:8000/\""
   ]
  },
  {
   "cell_type": "code",
   "execution_count": 14,
   "id": "251a343f",
   "metadata": {},
   "outputs": [],
   "source": [
    "application = \"https://raw.githubusercontent.com/ESA-APEx/apex_algorithms/refs/heads/main/algorithm_catalog/vito/random_forest_firemapping/openeo_udp/random_forest_firemapping.json\"\n",
    "endpoint = \"https://openeofed.dataspace.copernicus.eu\""
   ]
  },
  {
   "cell_type": "code",
   "execution_count": 7,
   "id": "c83aa9d5",
   "metadata": {},
   "outputs": [],
   "source": [
    "area_of_interest =   {\n",
    "        \"coordinates\": [\n",
    "          [\n",
    "            [\n",
    "              -5.63017002925514,\n",
    "              42.61315111519849\n",
    "            ],\n",
    "            [\n",
    "              -7.147271480204438,\n",
    "              42.61315111519849\n",
    "            ],\n",
    "            [\n",
    "              -7.147271480204438,\n",
    "              41.842023634350426\n",
    "            ],\n",
    "            [\n",
    "              -5.63017002925514,\n",
    "              41.842023634350426\n",
    "            ],\n",
    "            [\n",
    "              -5.63017002925514,\n",
    "              42.61315111519849\n",
    "            ]\n",
    "          ]\n",
    "        ],\n",
    "        \"type\": \"Polygon\"\n",
    "      }\n",
    "time_of_interest = [\"2025-08-15\", \"2025-08-22\"]"
   ]
  },
  {
   "cell_type": "markdown",
   "id": "33c539b8-51e3-43a5-b88e-bc2ac0f89c43",
   "metadata": {},
   "source": [
    "## Retrieval of the tiles\n",
    "The first step in our upscaling exercise is to determine the different tiles to be processed based on the given `area_of_interest`. In this example we ask the dispatcher to split up the area in a `20x20km` grid. This results in a list of tiles that are visualised on the map."
   ]
  },
  {
   "cell_type": "code",
   "execution_count": 8,
   "id": "e0618338",
   "metadata": {},
   "outputs": [],
   "source": [
    "tiles = requests.post(f\"{dispatch_api}/tiles\", json={\n",
    "    \"grid\": \"20x20km\",\n",
    "    \"aoi\": area_of_interest\n",
    "}).json()"
   ]
  },
  {
   "cell_type": "code",
   "execution_count": 13,
   "id": "6de8d686",
   "metadata": {},
   "outputs": [
    {
     "data": {
      "application/vnd.jupyter.widget-view+json": {
       "model_id": "ef6f633a4eca4ec686c253deb9302479",
       "version_major": 2,
       "version_minor": 0
      },
      "text/plain": [
       "Map(center=[42.251628548555004, -6.37490034623255], controls=(ZoomControl(options=['position', 'zoom_in_text',…"
      ]
     },
     "execution_count": 13,
     "metadata": {},
     "output_type": "execute_result"
    }
   ],
   "source": [
    "from ipyleaflet import Map, GeoJSON\n",
    "\n",
    "# Create a map centered at the approximate center of the area of interest\n",
    "m = Map(center=[42.251628548555004, -6.37490034623255], zoom=8)\n",
    " \n",
    "# Add the tiles (GeometryCollection) to the map\n",
    "geo_json = GeoJSON(data=tiles)\n",
    "m.add_layer(geo_json)\n",
    "\n",
    "# Display the map\n",
    "m"
   ]
  },
  {
   "cell_type": "markdown",
   "id": "5b79dc3d-7734-4e30-86d8-b1868f5f170a",
   "metadata": {},
   "source": [
    "## Launching the upscaling task\n",
    "\n",
    "Next we trigger the upscaling task on the dispatcher. We provide the details of the processing jobs that need to be executed together with a `dimension`. This is an important parameter as this lets the dispatcher know how to scale up. In this case we are asking the dispatcher to scale up using the `spatial_extent`, creating a separate job for each geometry in the `values` section. The dispatcher will take care of all the rest. The result in the information on the created upscaling task."
   ]
  },
  {
   "cell_type": "code",
   "execution_count": 20,
   "id": "c5ca3fdd-7559-4fc7-8318-61b5dc59475f",
   "metadata": {},
   "outputs": [
    {
     "data": {
      "text/plain": [
       "{'id': 4,\n",
       " 'title': 'Forest Fire Detection',\n",
       " 'label': 'openeo',\n",
       " 'status': 'created'}"
      ]
     },
     "execution_count": 20,
     "metadata": {},
     "output_type": "execute_result"
    }
   ],
   "source": [
    "upscaling_task = requests.post(f\"{dispatch_api}/upscale_tasks\", json={\n",
    "    \"title\": \"Forest Fire Detection\",\n",
    "    \"label\": \"openeo\",\n",
    "    \"service\": {\n",
    "        \"endpoint\": endpoint,\n",
    "        \"application\": application\n",
    "    },\n",
    "    \"parameters\": {\n",
    "        \"temporal_extent\": time_of_interest\n",
    "    },\n",
    "    \"dimension\": {\n",
    "        \"name\": \"spatial_extent\",\n",
    "        \"values\": tiles[\"geometries\"]\n",
    "    }\n",
    "}).json()\n",
    "upscaling_task"
   ]
  },
  {
   "cell_type": "markdown",
   "id": "38adee61-7fb3-49c7-88cc-063009819a37",
   "metadata": {},
   "source": [
    "## Retrieve status of the upscaling task\n",
    "We can now write a continuous monitoring process that fetches the status of the upscaling task and showcase the results on the map."
   ]
  },
  {
   "cell_type": "code",
   "execution_count": null,
   "id": "ac428293-7cd4-49a8-9bfa-4e0dc8f4d2cc",
   "metadata": {},
   "outputs": [
    {
     "data": {
      "application/vnd.jupyter.widget-view+json": {
       "model_id": "a89dccec118c4dbe829f9b97b34eb872",
       "version_major": 2,
       "version_minor": 0
      },
      "text/plain": [
       "Map(center=[42.251628548555004, -6.37490034623255], controls=(ZoomControl(options=['position', 'zoom_in_text',…"
      ]
     },
     "metadata": {},
     "output_type": "display_data"
    }
   ],
   "source": [
    "from ipyleaflet import Map, GeoJSON\n",
    "import requests\n",
    "import time\n",
    "\n",
    "m = Map(center=[42.251628548555004, -6.37490034623255], zoom=8)\n",
    "geo_json = GeoJSON(\n",
    "    data={\n",
    "        \"type\": \"FeatureCollection\",\n",
    "        \"features\": []\n",
    "    }\n",
    ")\n",
    "m.add_layer(geo_json)\n",
    "display(m)\n",
    "\n",
    "# Function to style jobs\n",
    "def job_style(feature):\n",
    "    color = {\n",
    "        \"created\": \"blue\",\n",
    "        \"queued\": \"orange\",\n",
    "        \"running\": \"yellow\",\n",
    "        \"finished\": \"green\",\n",
    "        \"canceled\": \"gray\",\n",
    "        \"failed\": \"red\"\n",
    "    }.get(feature[\"properties\"][\"status\"], \"black\")\n",
    "    return {\n",
    "        \"color\": color,\n",
    "        \"fillColor\": color,\n",
    "        \"fillOpacity\": 0.5\n",
    "    }\n",
    "\n",
    "while upscaling_task[\"status\"] not in [\"finished\", \"canceled\", \"failed\"]:\n",
    "    upscaling_task = requests.get(f\"{dispatch_api}/upscale_tasks/{upscaling_task['id']}\").json()\n",
    "    if upscaling_task.get(\"jobs\"):\n",
    "        features = []\n",
    "        for job in upscaling_task[\"jobs\"]:\n",
    "            features.append({\n",
    "                \"type\": \"Feature\",\n",
    "                \"geometry\": job[\"parameters\"][\"spatial_extent\"],\n",
    "                \"properties\": {\n",
    "                    \"status\": job[\"status\"],\n",
    "                }\n",
    "            })\n",
    "        geo_json.data = {\n",
    "            \"type\": \"FeatureCollection\",\n",
    "            \"features\": features\n",
    "        }\n",
    "        geo_json.style_callback = job_style\n",
    "    time.sleep(15)"
   ]
  }
 ],
 "metadata": {
  "kernelspec": {
   "display_name": "Python 3 (ipykernel)",
   "language": "python",
   "name": "python3"
  },
  "language_info": {
   "codemirror_mode": {
    "name": "ipython",
    "version": 3
   },
   "file_extension": ".py",
   "mimetype": "text/x-python",
   "name": "python",
   "nbconvert_exporter": "python",
   "pygments_lexer": "ipython3",
   "version": "3.10.12"
  }
 },
 "nbformat": 4,
 "nbformat_minor": 5
}

{
 "cells": [
  {
   "cell_type": "markdown",
   "id": "c56e06c4-70ab-4d1b-a4ee-3e9baa95d6aa",
   "metadata": {},
   "source": [
    "# Upscaling Service - Proof of Concept\n",
    "This notebooks showcases a demo of the APEx Upscaling Service by demonstrating the capabilities of the [APEx Dispatcher API](https://github.com/ESA-APEx/apex_dispatch_api). In this notebook we will perform a small upscaling exercise for one of the services in the [APEx Algoritm Services Catalogue](https://algorithm-catalogue.apex.esa.int/), specfically the [Wind Turbine Detection](https://algorithm-catalogue.apex.esa.int/apps/wind_turbine_detection#execution-information). We will split up an area of interest in a 20x20km grid and execute this  through this upscaling task through the APEx Dispatch API."
   ]
  },
  {
   "cell_type": "code",
   "execution_count": 1,
   "id": "d99f5fbc",
   "metadata": {},
   "outputs": [],
   "source": [
    "import requests\n",
    "import rasterio\n",
    "import numpy as np\n",
    "import tempfile\n",
    "import asyncio\n",
    "import json\n",
    "import websockets\n",
    "import httpx\n",
    "import io\n",
    "import base64\n",
    "from ipyleaflet import ImageOverlay\n",
    "from PIL import Image\n",
    "from ipyleaflet import Map, GeoJSON, TileLayer\n",
    "from rasterio.warp import transform_bounds\n",
    "from shapely.geometry import shape\n",
    "from pyproj import Transformer"
   ]
  },
  {
   "cell_type": "markdown",
   "id": "a2179224-deec-4005-90ad-78122871b35a",
   "metadata": {},
   "source": [
    "## Definition of parameters"
   ]
  },
  {
   "cell_type": "code",
   "execution_count": 2,
   "id": "f95065a9",
   "metadata": {},
   "outputs": [],
   "source": [
    "dispatch_api = \"localhost:8000\""
   ]
  },
  {
   "cell_type": "code",
   "execution_count": 3,
   "id": "251a343f",
   "metadata": {},
   "outputs": [],
   "source": [
    "application = \"https://raw.githubusercontent.com/ESA-APEx/apex_algorithms/main/algorithm_catalog/dhi/wind_turbine/openeo_udp/wind_turbine.json\"\n",
    "endpoint = \"https://openeo.vito.be\""
   ]
  },
  {
   "cell_type": "code",
   "execution_count": 6,
   "id": "c83aa9d5",
   "metadata": {},
   "outputs": [],
   "source": [
    "spatial_extent = {\n",
    "        \"coordinates\": [\n",
    "          [\n",
    "            [\n",
    "              15.783068878717927,\n",
    "              48.399748607608274\n",
    "            ],\n",
    "            [\n",
    "              15.783068878717927,\n",
    "              47.67113032076179\n",
    "            ],\n",
    "            [\n",
    "              17.195072725712834,\n",
    "              47.67113032076179\n",
    "            ],\n",
    "            [\n",
    "              17.195072725712834,\n",
    "              48.399748607608274\n",
    "            ],\n",
    "            [\n",
    "              15.783068878717927,\n",
    "              48.399748607608274\n",
    "            ]\n",
    "          ]\n",
    "        ],\n",
    "        \"type\": \"Polygon\"\n",
    "    }\n",
    "year = 2024\n",
    "output_format = \"geojson\""
   ]
  },
  {
   "cell_type": "code",
   "execution_count": 15,
   "id": "53d0800c-a6b3-4a64-a7a2-f27689adc7d7",
   "metadata": {},
   "outputs": [],
   "source": [
    "# Map related settings\n",
    "center = shape(spatial_extent).centroid\n",
    "zoom = 8"
   ]
  },
  {
   "cell_type": "markdown",
   "id": "33c539b8-51e3-43a5-b88e-bc2ac0f89c43",
   "metadata": {},
   "source": [
    "## Retrieval of the tiles\n",
    "The first step in our upscaling exercise is to determine the different tiles to be processed based on the given `area_of_interest`. In this example we ask the dispatcher to split up the area in a `20x20km` grid. This results in a list of tiles that are visualised on the map."
   ]
  },
  {
   "cell_type": "code",
   "execution_count": 8,
   "id": "e0618338",
   "metadata": {},
   "outputs": [
    {
     "name": "stdout",
     "output_type": "stream",
     "text": [
      "Processing 56 tiles for area of interest\n"
     ]
    }
   ],
   "source": [
    "tiles = requests.post(f\"http://{dispatch_api}/tiles\", json={\n",
    "    \"grid\": \"20x20km\",\n",
    "    \"aoi\": spatial_extent\n",
    "}).json()\n",
    "print(f\"Processing {len(tiles['geometries'])} tiles for area of interest\")"
   ]
  },
  {
   "cell_type": "code",
   "execution_count": 20,
   "id": "6de8d686",
   "metadata": {},
   "outputs": [
    {
     "data": {
      "application/vnd.jupyter.widget-view+json": {
       "model_id": "4b54bca1b85f4c8fa1c9da670bfa4d55",
       "version_major": 2,
       "version_minor": 0
      },
      "text/plain": [
       "Map(center=[48.03543946418503, 16.48907080221538], controls=(ZoomControl(options=['position', 'zoom_in_text', …"
      ]
     },
     "execution_count": 20,
     "metadata": {},
     "output_type": "execute_result"
    }
   ],
   "source": [
    "# Create a map centered at the approximate center of the area of interest\n",
    "m = Map(center=[center.y, center.x], zoom=zoom)\n",
    " \n",
    "# Add the tiles (GeometryCollection) to the map\n",
    "geo_json = GeoJSON(data=tiles)\n",
    "m.add_layer(geo_json)\n",
    "\n",
    "# Display the map\n",
    "m"
   ]
  },
  {
   "cell_type": "markdown",
   "id": "5b79dc3d-7734-4e30-86d8-b1868f5f170a",
   "metadata": {},
   "source": [
    "## Launching the upscaling task\n",
    "\n",
    "Next we trigger the upscaling task on the dispatcher. We provide the details of the processing jobs that need to be executed together with a `dimension`. This is an important parameter as this lets the dispatcher know how to scale up. In this case we are asking the dispatcher to scale up using the `spatial_extent`, creating a separate job for each geometry in the `values` section. The dispatcher will take care of all the rest. The result in the information on the created upscaling task."
   ]
  },
  {
   "cell_type": "code",
   "execution_count": 21,
   "id": "c5ca3fdd-7559-4fc7-8318-61b5dc59475f",
   "metadata": {},
   "outputs": [
    {
     "data": {
      "text/plain": [
       "{'id': 18,\n",
       " 'title': 'Wind Turbine Detection',\n",
       " 'label': 'openeo',\n",
       " 'status': 'created'}"
      ]
     },
     "execution_count": 21,
     "metadata": {},
     "output_type": "execute_result"
    }
   ],
   "source": [
    "upscaling_task = requests.post(f\"http://{dispatch_api}/upscale_tasks\", json={\n",
    "    \"title\": \"Wind Turbine Detection\",\n",
    "    \"label\": \"openeo\",\n",
    "    \"service\": {\n",
    "        \"endpoint\": endpoint,\n",
    "        \"application\": application\n",
    "    },\n",
    "    \"format\": output_format,\n",
    "    \"parameters\": {\n",
    "        \"year\": year\n",
    "    },\n",
    "    \"dimension\": {\n",
    "        \"name\": \"spatial_extent\",\n",
    "        \"values\": tiles[\"geometries\"]\n",
    "    }\n",
    "}).json()\n",
    "upscaling_task_id = upscaling_task['id']\n",
    "upscaling_task"
   ]
  },
  {
   "cell_type": "markdown",
   "id": "38adee61-7fb3-49c7-88cc-063009819a37",
   "metadata": {},
   "source": [
    "## Retrieve status of the upscaling task\n",
    "We can now write a continuous monitoring process that fetches the status of the upscaling task and showcase the results on the map."
   ]
  },
  {
   "cell_type": "code",
   "execution_count": 22,
   "id": "02e5c413-d110-4110-be59-c86e5226edc5",
   "metadata": {},
   "outputs": [],
   "source": [
    "def add_cog_layer(cog_url, name=None, m=m):\n",
    "    with rasterio.open(cog_url) as src:\n",
    "        band = src.read(1).astype(np.float32)\n",
    "\n",
    "        bounds = transform_bounds(src.crs, \"EPSG:4326\", *src.bounds)\n",
    "\n",
    "        # Normalize 0–255\n",
    "        band = 255 * (band - band.min()) / (band.max() - band.min())\n",
    "        band = band.astype(np.uint8)\n",
    "\n",
    "    # Convert to PNG data URI\n",
    "    buf = io.BytesIO()\n",
    "    Image.fromarray(band).save(buf, format=\"PNG\")\n",
    "    data_url = \"data:image/png;base64,\" + base64.b64encode(buf.getvalue()).decode(\"utf-8\")\n",
    "\n",
    "    bbox = ((bounds[1], bounds[0]), (bounds[3], bounds[2]))\n",
    "    overlay = ImageOverlay(url=data_url, bounds=bbox, name=name or \"Gray COG\")\n",
    "    m.add_layer(overlay)\n",
    "    return overlay\n",
    "\n",
    "def add_geojson_layer(url,name=None, m=m):\n",
    "    data = requests.get(url).json()\n",
    "    transformer = Transformer.from_crs(data[\"crs\"][\"properties\"][\"name\"], \"EPSG:4326\", always_xy=True)\n",
    "\n",
    "    for feature in data[\"features\"]:\n",
    "        geom = feature[\"geometry\"]\n",
    "        if geom[\"type\"] == \"Polygon\":\n",
    "            new_coords = []\n",
    "            for ring in geom[\"coordinates\"]:\n",
    "                new_ring = [transformer.transform(x, y) for x, y in ring]\n",
    "                new_coords.append(new_ring)\n",
    "            geom[\"coordinates\"] = new_coords\n",
    "    geo_json = GeoJSON(data=data)\n",
    "    m.add_layer(geo_json)"
   ]
  },
  {
   "cell_type": "code",
   "execution_count": null,
   "id": "ac428293-7cd4-49a8-9bfa-4e0dc8f4d2cc",
   "metadata": {},
   "outputs": [
    {
     "data": {
      "application/vnd.jupyter.widget-view+json": {
       "model_id": "c862751331ed4d4797d022f503e183da",
       "version_major": 2,
       "version_minor": 0
      },
      "text/plain": [
       "Map(center=[48.03543946418503, 16.48907080221538], controls=(ZoomControl(options=['position', 'zoom_in_text', …"
      ]
     },
     "metadata": {},
     "output_type": "display_data"
    }
   ],
   "source": [
    "m = Map(center=[center.y, center.x], zoom=zoom)\n",
    "geo_json = GeoJSON(\n",
    "    data={\n",
    "        \"type\": \"FeatureCollection\",\n",
    "        \"features\": []\n",
    "    }\n",
    ")\n",
    "m.add_layer(geo_json)\n",
    "display(m)\n",
    "\n",
    "# Function to style jobs\n",
    "def job_style(feature):\n",
    "    status = feature[\"properties\"][\"status\"]\n",
    "    color = {\n",
    "        \"created\": \"blue\",\n",
    "        \"queued\": \"orange\",\n",
    "        \"running\": \"yellow\",\n",
    "        \"finished\": \"green\",\n",
    "        \"canceled\": \"gray\",\n",
    "        \"failed\": \"red\"\n",
    "    }.get(feature[\"properties\"][\"status\"], \"black\")\n",
    "    return {\n",
    "        \"color\": color,\n",
    "        \"fillColor\": color,\n",
    "        \"fillOpacity\": 0.5 if status != \"finished\" else 0.0\n",
    "    }\n",
    "\n",
    "# Keep track of processed jobs\n",
    "processed_jobs = set()\n",
    "\n",
    "async def show_results(job_id):\n",
    "    async with httpx.AsyncClient() as client:\n",
    "        result = await client.get(f\"http://{dispatch_api}/unit_jobs/{job_id}/results\")\n",
    "        response = result.json()\n",
    "        if output_format.lower() == \"geojson\":\n",
    "            result = response[\"assets\"][\"vectorcube.geojson\"][\"href\"]\n",
    "            add_geojson_layer(result, name=f\"Job {job_id}\", m=m)\n",
    "        else:\n",
    "            cog = response[\"assets\"][\"openEO.tif\"][\"href\"]\n",
    "            add_cog_layer(cog, name=f\"Job {job_id}\", m=m)\n",
    "        return response\n",
    "\n",
    "async def listen_for_updates():\n",
    "    ws_url = f\"ws://{dispatch_api}/ws/upscale_tasks/{upscaling_task_id}?interval=15\"\n",
    "    async with websockets.connect(ws_url) as websocket:\n",
    "        while True:\n",
    "            message = await websocket.recv()\n",
    "            message = json.loads(message)\n",
    "            if message.get(\"data\"):\n",
    "                features = []\n",
    "                for job in message[\"data\"][\"jobs\"]:\n",
    "                    job_id = job[\"id\"]\n",
    "                    job_status = job[\"status\"]\n",
    "\n",
    "                    features.append({\n",
    "                        \"type\": \"Feature\",\n",
    "                        \"geometry\": job[\"parameters\"][\"spatial_extent\"],\n",
    "                        \"properties\": {\n",
    "                            \"status\": job_status,\n",
    "                        }\n",
    "                    })\n",
    "                    \n",
    "                    # If the job is finished and not yet processed, fetch results\n",
    "                    if job_status == \"finished\" and job_id not in processed_jobs:\n",
    "                        processed_jobs.add(job_id)\n",
    "                        await show_results(job_id)\n",
    "         \n",
    "                geo_json.data = {\n",
    "                    \"type\": \"FeatureCollection\",\n",
    "                    \"features\": features\n",
    "                }\n",
    "                geo_json.style_callback = job_style\n",
    "                if message[\"data\"][\"status\"] in [\"finished\", \"canceled\", \"failed\"]:\n",
    "                    print(f\"Job finished with status {message['data']['status']}\")\n",
    "                    websocket.close()\n",
    "                    break\n",
    "\n",
    "# Run the websocket listener in the notebook\n",
    "await listen_for_updates()"
   ]
  },
  {
   "cell_type": "code",
   "execution_count": null,
   "id": "56bbbdce-45bc-4c05-a6f6-66ab6dac4808",
   "metadata": {},
   "outputs": [],
   "source": []
  },
  {
   "cell_type": "code",
   "execution_count": null,
   "id": "033acea8-d767-45fd-8030-74d7c4f936ef",
   "metadata": {},
   "outputs": [],
   "source": []
  }
 ],
 "metadata": {
  "kernelspec": {
   "display_name": "Python 3 (ipykernel)",
   "language": "python",
   "name": "python3"
  },
  "language_info": {
   "codemirror_mode": {
    "name": "ipython",
    "version": 3
   },
   "file_extension": ".py",
   "mimetype": "text/x-python",
   "name": "python",
   "nbconvert_exporter": "python",
   "pygments_lexer": "ipython3",
   "version": "3.10.12"
  }
 },
 "nbformat": 4,
 "nbformat_minor": 5
}

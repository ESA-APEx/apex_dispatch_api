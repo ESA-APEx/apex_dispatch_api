{
 "cells": [
  {
   "cell_type": "markdown",
   "id": "c56e06c4-70ab-4d1b-a4ee-3e9baa95d6aa",
   "metadata": {},
   "source": [
    "# Upscaling Service - Proof of Concept\n",
    "This notebooks showcases a demo of the APEx Upscaling Service by demonstrating the capabilities of the [APEx Dispatcher API](https://github.com/ESA-APEx/apex_dispatch_api). In this notebook we will perform a small upscaling exercise for one of the services in the [APEx Algoritm Services Catalogue](https://algorithm-catalogue.apex.esa.int/), specfically the [Forest Fire Mapping](https://algorithm-catalogue.apex.esa.int/apps/parcel_delineation#execution-information). We will split up an area of interest in a 20x20km grid and execute this  through this upscaling task through the APEx Dispatch API."
   ]
  },
  {
   "cell_type": "code",
   "execution_count": 33,
   "id": "d99f5fbc",
   "metadata": {},
   "outputs": [],
   "source": [
    "import requests\n",
    "import rasterio\n",
    "import asyncio\n",
    "import json\n",
    "import websockets\n",
    "from ipyleaflet import Map, GeoJSON, TileLayer"
   ]
  },
  {
   "cell_type": "markdown",
   "id": "136f2989-3414-44c7-abbb-a04d63620ef1",
   "metadata": {},
   "source": [
    "## Definition of parameters"
   ]
  },
  {
   "cell_type": "code",
   "execution_count": 2,
   "id": "f95065a9",
   "metadata": {},
   "outputs": [],
   "source": [
    "dispatch_api = \"localhost:8000\""
   ]
  },
  {
   "cell_type": "code",
   "execution_count": 3,
   "id": "251a343f",
   "metadata": {},
   "outputs": [],
   "source": [
    "application = \"https://raw.githubusercontent.com/ESA-APEx/apex_algorithms/refs/heads/main/algorithm_catalog/vito/random_forest_firemapping/openeo_udp/random_forest_firemapping.json\"\n",
    "endpoint = \"https://openeofed.dataspace.copernicus.eu\""
   ]
  },
  {
   "cell_type": "code",
   "execution_count": 4,
   "id": "c83aa9d5",
   "metadata": {},
   "outputs": [],
   "source": [
    "area_of_interest =   {\n",
    "        \"coordinates\": [\n",
    "          [\n",
    "            [\n",
    "              -5.63017002925514,\n",
    "              42.61315111519849\n",
    "            ],\n",
    "            [\n",
    "              -7.147271480204438,\n",
    "              42.61315111519849\n",
    "            ],\n",
    "            [\n",
    "              -7.147271480204438,\n",
    "              41.842023634350426\n",
    "            ],\n",
    "            [\n",
    "              -5.63017002925514,\n",
    "              41.842023634350426\n",
    "            ],\n",
    "            [\n",
    "              -5.63017002925514,\n",
    "              42.61315111519849\n",
    "            ]\n",
    "          ]\n",
    "        ],\n",
    "        \"type\": \"Polygon\"\n",
    "      }\n",
    "time_of_interest = [\"2025-08-15\", \"2025-08-22\"]"
   ]
  },
  {
   "cell_type": "markdown",
   "id": "33c539b8-51e3-43a5-b88e-bc2ac0f89c43",
   "metadata": {},
   "source": [
    "## Retrieval of the tiles\n",
    "The first step in our upscaling exercise is to determine the different tiles to be processed based on the given `area_of_interest`. In this example we ask the dispatcher to split up the area in a `20x20km` grid. This results in a list of tiles that are visualised on the map."
   ]
  },
  {
   "cell_type": "code",
   "execution_count": 7,
   "id": "e0618338",
   "metadata": {},
   "outputs": [],
   "source": [
    "tiles = requests.post(f\"http://{dispatch_api}/tiles\", json={\n",
    "    \"grid\": \"20x20km\",\n",
    "    \"aoi\": area_of_interest\n",
    "}).json()"
   ]
  },
  {
   "cell_type": "code",
   "execution_count": 8,
   "id": "6de8d686",
   "metadata": {},
   "outputs": [
    {
     "data": {
      "application/vnd.jupyter.widget-view+json": {
       "model_id": "8d14fbcb37c1424c92f0a8da7388b91a",
       "version_major": 2,
       "version_minor": 0
      },
      "text/plain": [
       "Map(center=[42.251628548555004, -6.37490034623255], controls=(ZoomControl(options=['position', 'zoom_in_text',…"
      ]
     },
     "execution_count": 8,
     "metadata": {},
     "output_type": "execute_result"
    }
   ],
   "source": [
    "# Create a map centered at the approximate center of the area of interest\n",
    "m = Map(center=[42.251628548555004, -6.37490034623255], zoom=8)\n",
    " \n",
    "# Add the tiles (GeometryCollection) to the map\n",
    "geo_json = GeoJSON(data=tiles)\n",
    "m.add_layer(geo_json)\n",
    "\n",
    "# Display the map\n",
    "m"
   ]
  },
  {
   "cell_type": "markdown",
   "id": "5b79dc3d-7734-4e30-86d8-b1868f5f170a",
   "metadata": {},
   "source": [
    "## Launching the upscaling task\n",
    "\n",
    "Next we trigger the upscaling task on the dispatcher. We provide the details of the processing jobs that need to be executed together with a `dimension`. This is an important parameter as this lets the dispatcher know how to scale up. In this case we are asking the dispatcher to scale up using the `spatial_extent`, creating a separate job for each geometry in the `values` section. The dispatcher will take care of all the rest. The result in the information on the created upscaling task."
   ]
  },
  {
   "cell_type": "code",
   "execution_count": 20,
   "id": "c5ca3fdd-7559-4fc7-8318-61b5dc59475f",
   "metadata": {},
   "outputs": [
    {
     "data": {
      "text/plain": [
       "{'id': 4,\n",
       " 'title': 'Forest Fire Detection',\n",
       " 'label': 'openeo',\n",
       " 'status': 'created'}"
      ]
     },
     "execution_count": 20,
     "metadata": {},
     "output_type": "execute_result"
    }
   ],
   "source": [
    "upscaling_task = requests.post(f\"http://{dispatch_api}/upscale_tasks\", json={\n",
    "    \"title\": \"Forest Fire Detection\",\n",
    "    \"label\": \"openeo\",\n",
    "    \"service\": {\n",
    "        \"endpoint\": endpoint,\n",
    "        \"application\": application\n",
    "    },\n",
    "    \"parameters\": {\n",
    "        \"temporal_extent\": time_of_interest\n",
    "    },\n",
    "    \"dimension\": {\n",
    "        \"name\": \"spatial_extent\",\n",
    "        \"values\": tiles[\"geometries\"]\n",
    "    }\n",
    "}).json()\n",
    "upscaling_task"
   ]
  },
  {
   "cell_type": "markdown",
   "id": "38adee61-7fb3-49c7-88cc-063009819a37",
   "metadata": {},
   "source": [
    "## Retrieve status of the upscaling task\n",
    "We can now write a continuous monitoring process that fetches the status of the upscaling task and showcase the results on the map."
   ]
  },
  {
   "cell_type": "code",
   "execution_count": 9,
   "id": "ce1e3da9-d0ae-4c57-b42e-143f5dc109fd",
   "metadata": {},
   "outputs": [],
   "source": [
    "upscaling_task = {\n",
    "    \"id\": 4\n",
    "}"
   ]
  },
  {
   "cell_type": "code",
   "execution_count": 34,
   "id": "02e5c413-d110-4110-be59-c86e5226edc5",
   "metadata": {},
   "outputs": [],
   "source": [
    "def add_cog_layer(cog_url, name=None, m=m):\n",
    "    with rasterio.open(cog_path) as src:\n",
    "        band = src.read(1).astype(np.float32)\n",
    "        bounds = src.bounds\n",
    "\n",
    "        # Normalize 0–255\n",
    "        band = 255 * (band - band.min()) / (band.max() - band.min())\n",
    "        band = band.astype(np.uint8)\n",
    "\n",
    "    # Save a temporary PNG\n",
    "    tmpfile = tempfile.NamedTemporaryFile(suffix=\".png\", delete=False)\n",
    "    Image.fromarray(img).save(tmpfile.name)\n",
    "\n",
    "    bbox = ((bounds.bottom, bounds.left), (bounds.top, bounds.right))\n",
    "    overlay = ImageOverlay(url=tmpfile.name, bounds=bbox, name=name or \"COG\")\n",
    "    m.add_layer(overlay)\n",
    "    return overlay"
   ]
  },
  {
   "cell_type": "code",
   "execution_count": 35,
   "id": "ac428293-7cd4-49a8-9bfa-4e0dc8f4d2cc",
   "metadata": {},
   "outputs": [
    {
     "data": {
      "application/vnd.jupyter.widget-view+json": {
       "model_id": "94688dd359f54bc1b851e35105bbf000",
       "version_major": 2,
       "version_minor": 0
      },
      "text/plain": [
       "Map(center=[42.251628548555004, -6.37490034623255], controls=(ZoomControl(options=['position', 'zoom_in_text',…"
      ]
     },
     "metadata": {},
     "output_type": "display_data"
    },
    {
     "ename": "NameError",
     "evalue": "name 'cog_path' is not defined",
     "output_type": "error",
     "traceback": [
      "\u001b[0;31m---------------------------------------------------------------------------\u001b[0m",
      "\u001b[0;31mNameError\u001b[0m                                 Traceback (most recent call last)",
      "Cell \u001b[0;32mIn[35], line 65\u001b[0m\n\u001b[1;32m     62\u001b[0m                 \u001b[38;5;28;01mbreak\u001b[39;00m\n\u001b[1;32m     64\u001b[0m \u001b[38;5;66;03m# Run the websocket listener in the notebook\u001b[39;00m\n\u001b[0;32m---> 65\u001b[0m \u001b[38;5;28;01mawait\u001b[39;00m listen_for_updates()\n",
      "Cell \u001b[0;32mIn[35], line 54\u001b[0m, in \u001b[0;36mlisten_for_updates\u001b[0;34m()\u001b[0m\n\u001b[1;32m     52\u001b[0m         result \u001b[38;5;241m=\u001b[39m requests\u001b[38;5;241m.\u001b[39mget(\u001b[38;5;124mf\u001b[39m\u001b[38;5;124m\"\u001b[39m\u001b[38;5;124mhttp://\u001b[39m\u001b[38;5;132;01m{\u001b[39;00mdispatch_api\u001b[38;5;132;01m}\u001b[39;00m\u001b[38;5;124m/unit_jobs/\u001b[39m\u001b[38;5;132;01m{\u001b[39;00mjob_id\u001b[38;5;132;01m}\u001b[39;00m\u001b[38;5;124m/results\u001b[39m\u001b[38;5;124m\"\u001b[39m)\u001b[38;5;241m.\u001b[39mjson()\n\u001b[1;32m     53\u001b[0m         cog \u001b[38;5;241m=\u001b[39m result[\u001b[38;5;124m\"\u001b[39m\u001b[38;5;124massets\u001b[39m\u001b[38;5;124m\"\u001b[39m][\u001b[38;5;124m\"\u001b[39m\u001b[38;5;124mopenEO.tif\u001b[39m\u001b[38;5;124m\"\u001b[39m][\u001b[38;5;124m\"\u001b[39m\u001b[38;5;124mhref\u001b[39m\u001b[38;5;124m\"\u001b[39m]\n\u001b[0;32m---> 54\u001b[0m         add_cog_layer(cog, name\u001b[38;5;241m=\u001b[39m\u001b[38;5;124mf\u001b[39m\u001b[38;5;124m\"\u001b[39m\u001b[38;5;124mJob \u001b[39m\u001b[38;5;132;01m{\u001b[39;00mjob_id\u001b[38;5;132;01m}\u001b[39;00m\u001b[38;5;124m\"\u001b[39m, m\u001b[38;5;241m=\u001b[39mm)\n\u001b[1;32m     56\u001b[0m geo_json\u001b[38;5;241m.\u001b[39mdata \u001b[38;5;241m=\u001b[39m {\n\u001b[1;32m     57\u001b[0m     \u001b[38;5;124m\"\u001b[39m\u001b[38;5;124mtype\u001b[39m\u001b[38;5;124m\"\u001b[39m: \u001b[38;5;124m\"\u001b[39m\u001b[38;5;124mFeatureCollection\u001b[39m\u001b[38;5;124m\"\u001b[39m,\n\u001b[1;32m     58\u001b[0m     \u001b[38;5;124m\"\u001b[39m\u001b[38;5;124mfeatures\u001b[39m\u001b[38;5;124m\"\u001b[39m: features\n\u001b[1;32m     59\u001b[0m }\n\u001b[1;32m     60\u001b[0m geo_json\u001b[38;5;241m.\u001b[39mstyle_callback \u001b[38;5;241m=\u001b[39m job_style\n",
      "Cell \u001b[0;32mIn[34], line 2\u001b[0m, in \u001b[0;36madd_cog_layer\u001b[0;34m(cog_url, name, m)\u001b[0m\n\u001b[1;32m      1\u001b[0m \u001b[38;5;28;01mdef\u001b[39;00m\u001b[38;5;250m \u001b[39m\u001b[38;5;21madd_cog_layer\u001b[39m(cog_url, name\u001b[38;5;241m=\u001b[39m\u001b[38;5;28;01mNone\u001b[39;00m, m\u001b[38;5;241m=\u001b[39mm):\n\u001b[0;32m----> 2\u001b[0m     \u001b[38;5;28;01mwith\u001b[39;00m rasterio\u001b[38;5;241m.\u001b[39mopen(\u001b[43mcog_path\u001b[49m) \u001b[38;5;28;01mas\u001b[39;00m src:\n\u001b[1;32m      3\u001b[0m         data \u001b[38;5;241m=\u001b[39m src\u001b[38;5;241m.\u001b[39mread([\u001b[38;5;241m1\u001b[39m, \u001b[38;5;241m2\u001b[39m, \u001b[38;5;241m3\u001b[39m])  \u001b[38;5;66;03m# pick RGB bands\u001b[39;00m\n\u001b[1;32m      4\u001b[0m         bounds \u001b[38;5;241m=\u001b[39m src\u001b[38;5;241m.\u001b[39mbounds\n",
      "\u001b[0;31mNameError\u001b[0m: name 'cog_path' is not defined"
     ]
    }
   ],
   "source": [
    "m = Map(center=[42.251628548555004, -6.37490034623255], zoom=8)\n",
    "geo_json = GeoJSON(\n",
    "    data={\n",
    "        \"type\": \"FeatureCollection\",\n",
    "        \"features\": []\n",
    "    }\n",
    ")\n",
    "m.add_layer(geo_json)\n",
    "display(m)\n",
    "\n",
    "# Function to style jobs\n",
    "def job_style(feature):\n",
    "    color = {\n",
    "        \"created\": \"blue\",\n",
    "        \"queued\": \"orange\",\n",
    "        \"running\": \"yellow\",\n",
    "        \"finished\": \"green\",\n",
    "        \"canceled\": \"gray\",\n",
    "        \"failed\": \"red\"\n",
    "    }.get(feature[\"properties\"][\"status\"], \"black\")\n",
    "    return {\n",
    "        \"color\": color,\n",
    "        \"fillColor\": color,\n",
    "        \"fillOpacity\": 0.5\n",
    "    }\n",
    "\n",
    "# Keep track of processed jobs\n",
    "processed_jobs = set()\n",
    "\n",
    "async def listen_for_updates():\n",
    "    ws_url = f\"ws://{dispatch_api}/ws/upscale_tasks/{upscaling_task['id']}?interval=15\"\n",
    "    async with websockets.connect(ws_url) as websocket:\n",
    "        while True:\n",
    "            message = await websocket.recv()\n",
    "            status = json.loads(message)\n",
    "            if status.get(\"data\"):\n",
    "                features = []\n",
    "                for job in status[\"data\"][\"jobs\"]:\n",
    "                    job_id = job[\"id\"]\n",
    "                    job_status = job[\"status\"]\n",
    "                    features.append({\n",
    "                        \"type\": \"Feature\",\n",
    "                        \"geometry\": job[\"parameters\"][\"spatial_extent\"],\n",
    "                        \"properties\": {\n",
    "                            \"status\": job_status,\n",
    "                        }\n",
    "                    })\n",
    "                    \n",
    "                    # If the job is finished and not yet processed, fetch results\n",
    "                    if job_status == \"finished\" and job_id not in processed_jobs:\n",
    "                        processed_jobs.add(job_id)\n",
    "                        result = requests.get(f\"http://{dispatch_api}/unit_jobs/{job_id}/results\").json()\n",
    "                        cog = result[\"assets\"][\"openEO.tif\"][\"href\"]\n",
    "                        add_cog_layer(cog, name=f\"Job {job_id}\", m=m)\n",
    "                    \n",
    "                geo_json.data = {\n",
    "                    \"type\": \"FeatureCollection\",\n",
    "                    \"features\": features\n",
    "                }\n",
    "                geo_json.style_callback = job_style\n",
    "            if status.get(\"status\") in [\"finished\", \"canceled\", \"failed\"]:\n",
    "                break\n",
    "\n",
    "# Run the websocket listener in the notebook\n",
    "await listen_for_updates()"
   ]
  },
  {
   "cell_type": "code",
   "execution_count": null,
   "id": "56bbbdce-45bc-4c05-a6f6-66ab6dac4808",
   "metadata": {},
   "outputs": [],
   "source": []
  }
 ],
 "metadata": {
  "kernelspec": {
   "display_name": "Python 3 (ipykernel)",
   "language": "python",
   "name": "python3"
  },
  "language_info": {
   "codemirror_mode": {
    "name": "ipython",
    "version": 3
   },
   "file_extension": ".py",
   "mimetype": "text/x-python",
   "name": "python",
   "nbconvert_exporter": "python",
   "pygments_lexer": "ipython3",
   "version": "3.10.12"
  }
 },
 "nbformat": 4,
 "nbformat_minor": 5
}
